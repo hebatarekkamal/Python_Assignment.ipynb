{
  "cells": [
    {
      "cell_type": "markdown",
      "source": [
        "**First Problem**"
      ],
      "metadata": {
        "id": "33MPmDDkKH4k"
      }
    },
    {
      "cell_type": "code",
      "execution_count": null,
      "metadata": {
        "colab": {
          "base_uri": "https://localhost:8080/"
        },
        "id": "4T5VQlgwf59u",
        "outputId": "05df80e4-96ba-47fc-a3e5-efc02e444c09"
      },
      "outputs": [
        {
          "output_type": "stream",
          "name": "stdout",
          "text": [
            "a = [1, 3, 5] b = [2, 4, 6]\n"
          ]
        }
      ],
      "source": [
        "l = [3,2,5,4,6,1]\n",
        "l.sort()\n",
        "max(l)\n",
        "a=[]\n",
        "b=[]\n",
        "for i in l:\n",
        "    if i%2==0:\n",
        "        b.append(i)\n",
        "    else:\n",
        "        a.append(i)\n",
        "print(\"a =\",a,\"b =\",b)\n",
        "\n"
      ]
    },
    {
      "cell_type": "markdown",
      "source": [
        "**Second Problem**"
      ],
      "metadata": {
        "id": "j8Xcc6xbKc0y"
      }
    },
    {
      "cell_type": "code",
      "execution_count": null,
      "metadata": {
        "id": "gFUe-vTghZGE",
        "colab": {
          "base_uri": "https://localhost:8080/"
        },
        "outputId": "904e56ad-d1a8-429f-dbe3-a0a74c6565dc"
      },
      "outputs": [
        {
          "output_type": "stream",
          "name": "stdout",
          "text": [
            "581\n"
          ]
        }
      ],
      "source": [
        "def equation(x):\n",
        "    return ((x**3)+(x**2)+x-3)\n",
        "print(equation(8))"
      ]
    },
    {
      "cell_type": "markdown",
      "source": [
        "Third Problem"
      ],
      "metadata": {
        "id": "68RkRkD-Ko4F"
      }
    },
    {
      "cell_type": "code",
      "source": [
        "import pandas as pd\n",
        "import numpy as np\n",
        "from numpy.random import randn\n",
        "n=int(input())\n",
        "count=0\n",
        "num=2\n",
        "while count<n:\n",
        "    v=True\n",
        "    for i in range(2,num):\n",
        "        if(num%i==0):\n",
        "            v=False\n",
        "            break\n",
        "    if v==True:\n",
        "        print(num,end=\" \")\n",
        "        count+=1\n",
        "    num+=1"
      ],
      "metadata": {
        "colab": {
          "base_uri": "https://localhost:8080/"
        },
        "id": "-O1eAT7eKpOH",
        "outputId": "711d8304-95c8-43e4-db8e-f53d72f9dfdc"
      },
      "execution_count": null,
      "outputs": [
        {
          "output_type": "stream",
          "name": "stdout",
          "text": [
            "5\n",
            "2 3 5 7 11 "
          ]
        }
      ]
    },
    {
      "cell_type": "markdown",
      "source": [
        "**Fourth Problem**"
      ],
      "metadata": {
        "id": "IUBHEL6vK90l"
      }
    },
    {
      "cell_type": "code",
      "source": [
        "for line in range(10):\n",
        "    if line<5:\n",
        "        for st in range(line):\n",
        "            print('*',end=\" \")\n",
        "        print()\n",
        "    else:\n",
        "        for st in range(10-line):\n",
        "            print('*', end=\" \")\n",
        "        print()"
      ],
      "metadata": {
        "colab": {
          "base_uri": "https://localhost:8080/"
        },
        "id": "TpCrHPWWK-C5",
        "outputId": "44b524e8-e5e2-4e1f-9f15-ccb4c9e1efd9"
      },
      "execution_count": null,
      "outputs": [
        {
          "output_type": "stream",
          "name": "stdout",
          "text": [
            "\n",
            "* \n",
            "* * \n",
            "* * * \n",
            "* * * * \n",
            "* * * * * \n",
            "* * * * \n",
            "* * * \n",
            "* * \n",
            "* \n"
          ]
        }
      ]
    },
    {
      "cell_type": "markdown",
      "source": [
        "**Fifth Problem**"
      ],
      "metadata": {
        "id": "2kkhlMaaLlZk"
      }
    },
    {
      "cell_type": "code",
      "source": [
        "x=float(input())\n",
        "y=float(input())\n",
        "z=float(input())\n",
        "if ((x==z)&(y==x)):\n",
        "     kind=\"equilateral triangle\"\n",
        "elif((x!=y)&(x!=z)&(z!=y)):\n",
        "    kind = \"Scalene triangle\"\n",
        "else:\n",
        "   kind=\"isosceles triangle\"\n",
        "print(\"x: \",x)\n",
        "print(\"y: \",y)\n",
        "print(\"z: \",z)\n",
        "print(kind)"
      ],
      "metadata": {
        "colab": {
          "base_uri": "https://localhost:8080/"
        },
        "id": "Hyrb5KVILoTU",
        "outputId": "54e07e33-dbc2-4948-b0fb-830ae9ef9ace"
      },
      "execution_count": null,
      "outputs": [
        {
          "output_type": "stream",
          "name": "stdout",
          "text": [
            "8\n",
            "12\n",
            "10\n",
            "x:  8.0\n",
            "y:  12.0\n",
            "z:  10.0\n",
            "Scalene triangle\n"
          ]
        }
      ]
    },
    {
      "cell_type": "markdown",
      "source": [
        "**sixth problem**"
      ],
      "metadata": {
        "id": "-VXUTzAgL6Jq"
      }
    },
    {
      "cell_type": "code",
      "source": [
        "r=input()\n",
        "r=r.replace(' ','-')\n",
        "print(r)"
      ],
      "metadata": {
        "colab": {
          "base_uri": "https://localhost:8080/"
        },
        "id": "OzY8PKkjL6hB",
        "outputId": "b0ff6e67-6033-4749-9dcb-07e7776a0574"
      },
      "execution_count": null,
      "outputs": [
        {
          "output_type": "stream",
          "name": "stdout",
          "text": [
            "this is a string\n",
            "this-is-a-string\n"
          ]
        }
      ]
    },
    {
      "cell_type": "markdown",
      "source": [
        "**Bouns Problem**"
      ],
      "metadata": {
        "id": "utfME6Z-MFSD"
      }
    },
    {
      "cell_type": "code",
      "source": [
        "r=input()\n",
        "y=r.split()\n",
        "y.reverse()\n",
        "for i in y:\n",
        "    print(i,end=' ')"
      ],
      "metadata": {
        "colab": {
          "base_uri": "https://localhost:8080/"
        },
        "id": "yGeo78fjMM_A",
        "outputId": "4ab7270e-00de-459b-ac3b-ee49e4fd0966"
      },
      "execution_count": null,
      "outputs": [
        {
          "output_type": "stream",
          "name": "stdout",
          "text": [
            "i am home\n",
            "home am i "
          ]
        }
      ]
    }
  ],
  "metadata": {
    "colab": {
      "name": "paythonassaigment1.ipynb",
      "provenance": []
    },
    "kernelspec": {
      "display_name": "Python 3",
      "name": "python3"
    },
    "language_info": {
      "name": "python"
    }
  },
  "nbformat": 4,
  "nbformat_minor": 0
}